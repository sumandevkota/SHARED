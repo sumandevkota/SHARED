{
 "cells": [
  {
   "cell_type": "markdown",
   "id": "1f4d630e",
   "metadata": {
    "toc": true
   },
   "source": [
    "<h1>Table of Contents<span class=\"tocSkip\"></span></h1>\n",
    "<div class=\"toc\"><ul class=\"toc-item\"><li><span><a href=\"#Description\" data-toc-modified-id=\"Description-1\"><span class=\"toc-item-num\">1&nbsp;&nbsp;</span>Description</a></span></li><li><span><a href=\"#Download-data-files-to-local-machine\" data-toc-modified-id=\"Download-data-files-to-local-machine-2\"><span class=\"toc-item-num\">2&nbsp;&nbsp;</span>Download data files to local machine</a></span></li><li><span><a href=\"#Load-the-modules\" data-toc-modified-id=\"Load-the-modules-3\"><span class=\"toc-item-num\">3&nbsp;&nbsp;</span>Load the modules</a></span></li><li><span><a href=\"#Read-files\" data-toc-modified-id=\"Read-files-4\"><span class=\"toc-item-num\">4&nbsp;&nbsp;</span>Read files</a></span></li></ul></div>"
   ]
  },
  {
   "cell_type": "markdown",
   "id": "886a6bd1",
   "metadata": {},
   "source": [
    "# Download data files to local machine"
   ]
  },
  {
   "cell_type": "code",
   "execution_count": 1,
   "id": "47297810",
   "metadata": {
    "ExecuteTime": {
     "end_time": "2022-01-03T01:20:18.137245Z",
     "start_time": "2022-01-03T01:20:17.721511Z"
    }
   },
   "outputs": [
    {
     "name": "stdout",
     "output_type": "stream",
     "text": [
      "--2022-01-02 20:20:17--  https://raw.githubusercontent.com/sumandevkota/SHARED/main/key.csv\n",
      "Resolving raw.githubusercontent.com... 185.199.111.133, 185.199.108.133, 185.199.109.133, ...\n",
      "Connecting to raw.githubusercontent.com|185.199.111.133|:443... connected.\n",
      "HTTP request sent, awaiting response... 200 OK\n",
      "Length: 431020 (421K) [text/plain]\n",
      "Saving to: ‘key.csv.2’\n",
      "\n",
      "key.csv.2           100%[===================>] 420.92K  --.-KB/s    in 0.08s   \n",
      "\n",
      "2022-01-02 20:20:18 (5.06 MB/s) - ‘key.csv.2’ saved [431020/431020]\n",
      "\n"
     ]
    }
   ],
   "source": [
    "!wget https://raw.githubusercontent.com/sumandevkota/SHARED/main/key.csv"
   ]
  },
  {
   "cell_type": "code",
   "execution_count": 2,
   "id": "1a8ad971",
   "metadata": {
    "ExecuteTime": {
     "end_time": "2022-01-03T01:20:18.271998Z",
     "start_time": "2022-01-03T01:20:18.141897Z"
    }
   },
   "outputs": [
    {
     "name": "stdout",
     "output_type": "stream",
     "text": [
      "\u001b[32mTshirt.csv\u001b[m\u001b[m                \u001b[32mkey.csv.1\u001b[m\u001b[m                 \u001b[32mparse_ad_click_keys.ipynb\u001b[m\u001b[m\r\n",
      "\u001b[32mkey.csv\u001b[m\u001b[m                   \u001b[32mkey.csv.2\u001b[m\u001b[m\r\n"
     ]
    }
   ],
   "source": [
    "!ls"
   ]
  },
  {
   "cell_type": "code",
   "execution_count": 3,
   "id": "3588cb77",
   "metadata": {
    "ExecuteTime": {
     "end_time": "2022-01-03T01:20:18.402438Z",
     "start_time": "2022-01-03T01:20:18.275968Z"
    }
   },
   "outputs": [
    {
     "name": "stdout",
     "output_type": "stream",
     "text": [
      "��K\u0000e\u0000y\u0000w\u0000o\u0000r\u0000d\u0000\t\u0000C\u0000u\u0000r\u0000r\u0000e\u0000n\u0000c\u0000y\u0000\t\u0000A\u0000v\u0000g\u0000.\u0000 \u0000m\u0000o\u0000n\u0000t\u0000h\u0000l\u0000y\u0000 \u0000s\u0000e\u0000a\u0000r\u0000c\u0000h\u0000e\u0000s\u0000\t\u0000T\u0000h\u0000r\u0000e\u0000e\u0000 \u0000m\u0000o\u0000n\u0000t\u0000h\u0000 \u0000c\u0000h\u0000a\u0000n\u0000g\u0000e\u0000\t\u0000Y\u0000o\u0000Y\u0000 \u0000c\u0000h\u0000a\u0000n\u0000g\u0000e\u0000\t\u0000C\u0000o\u0000m\u0000p\u0000e\u0000t\u0000i\u0000t\u0000i\u0000o\u0000n\u0000\t\u0000C\u0000o\u0000m\u0000p\u0000e\u0000t\u0000i\u0000t\u0000i\u0000o\u0000n\u0000 \u0000(\u0000i\u0000n\u0000d\u0000e\u0000x\u0000e\u0000d\u0000 \u0000v\u0000a\u0000l\u0000u\u0000e\u0000)\u0000\t\u0000T\u0000o\u0000p\u0000 \u0000o\u0000f\u0000 \u0000p\u0000a\u0000g\u0000e\u0000 \u0000b\u0000i\u0000d\u0000 \u0000(\u0000l\u0000o\u0000w\u0000 \u0000r\u0000a\u0000n\u0000g\u0000e\u0000)\u0000\t\u0000T\u0000o\u0000p\u0000 \u0000o\u0000f\u0000 \u0000p\u0000a\u0000g\u0000e\u0000 \u0000b\u0000i\u0000d\u0000 \u0000(\u0000h\u0000i\u0000g\u0000h\u0000 \u0000r\u0000a\u0000n\u0000g\u0000e\u0000)\u0000\t\u0000C\u0000o\u0000n\u0000c\u0000e\u0000p\u0000t\u0000:\u0000 \u0000C\u0000o\u0000n\u0000d\u0000i\u0000t\u0000i\u0000o\u0000n\u0000\t\u0000C\u0000o\u0000n\u0000c\u0000e\u0000p\u0000t\u0000:\u0000 \u0000B\u0000o\u0000d\u0000y\u0000 \u0000P\u0000a\u0000r\u0000t\u0000\t\u0000C\u0000o\u0000n\u0000c\u0000e\u0000p\u0000t\u0000:\u0000 \u0000P\u0000r\u0000o\u0000d\u0000u\u0000c\u0000t\u0000\t\u0000C\u0000o\u0000n\u0000c\u0000e\u0000p\u0000t\u0000:\u0000 \u0000B\u0000r\u0000a\u0000n\u0000d\u0000\t\u0000C\u0000o\u0000n\u0000c\u0000e\u0000p\u0000t\u0000:\u0000 \u0000R\u0000e\u0000t\u0000a\u0000i\u0000l\u0000e\u0000r\u0000\t\u0000C\u0000o\u0000n\u0000c\u0000e\u0000p\u0000t\u0000:\u0000 \u0000S\u0000t\u0000e\u0000p\u0000\t\u0000C\u0000o\u0000n\u0000c\u0000e\u0000p\u0000t\u0000:\u0000 \u0000C\u0000o\u0000l\u0000o\u0000r\u0000\t\u0000C\u0000o\u0000n\u0000c\u0000e\u0000p\u0000t\u0000:\u0000 \u0000O\u0000t\u0000h\u0000e\u0000r\u0000 \u0000B\u0000r\u0000a\u0000n\u0000d\u0000s\u0000\t\u0000C\u0000o\u0000n\u0000c\u0000e\u0000p\u0000t\u0000:\u0000 \u0000N\u0000o\u0000n\u0000-\u0000B\u0000r\u0000a\u0000n\u0000d\u0000s\u0000\t\u0000C\u0000o\u0000n\u0000c\u0000e\u0000p\u0000t\u0000:\u0000 \u0000A\u0000m\u0000e\u0000n\u0000i\u0000t\u0000y\u0000\t\u0000C\u0000o\u0000n\u0000c\u0000e\u0000p\u0000t\u0000:\u0000 \u0000F\u0000r\u0000u\u0000i\u0000t\u0000\t\u0000C\u0000o\u0000n\u0000c\u0000e\u0000p\u0000t\u0000:\u0000 \u0000G\u0000e\u0000n\u0000d\u0000e\u0000r\u0000\t\u0000C\u0000o\u0000n\u0000c\u0000e\u0000p\u0000t\u0000:\u0000 \u0000O\u0000t\u0000h\u0000e\u0000r\u0000s\u0000\r",
      "\u0000\r\n"
     ]
    }
   ],
   "source": [
    "!head -n 1 key.csv "
   ]
  },
  {
   "cell_type": "code",
   "execution_count": 4,
   "id": "5c99b252",
   "metadata": {
    "ExecuteTime": {
     "end_time": "2022-01-03T01:20:18.537407Z",
     "start_time": "2022-01-03T01:20:18.407806Z"
    }
   },
   "outputs": [
    {
     "name": "stdout",
     "output_type": "stream",
     "text": [
      "\u0000b\u0000o\u0000d\u0000y\u0000 \u0000s\u0000o\u0000a\u0000p\u0000\t\u0000U\u0000S\u0000D\u0000\t\u00005\u00000\u00000\u00000\u0000\t\u00000\u0000%\u0000\t\u00000\u0000%\u0000\t\u0000H\u0000i\u0000g\u0000h\u0000\t\u00001\u00000\u00000\u0000\t\u00001\u0000.\u00006\u00002\u0000\t\u00004\u0000.\u00005\u00006\u0000\t\u0000\t\u0000\t\u0000\t\u0000\t\u0000\t\u0000\t\u0000\t\u0000\t\u0000\t\u0000\t\u0000\t\u0000\t\u0000\r",
      "\u0000\r\n"
     ]
    }
   ],
   "source": [
    "!head -n 2 key.csv | tail -n 1"
   ]
  },
  {
   "cell_type": "code",
   "execution_count": 5,
   "id": "8994ef63",
   "metadata": {
    "ExecuteTime": {
     "end_time": "2022-01-03T01:20:18.675632Z",
     "start_time": "2022-01-03T01:20:18.542031Z"
    }
   },
   "outputs": [
    {
     "name": "stdout",
     "output_type": "stream",
     "text": [
      "\u0000n\u0000e\u0000p\u0000a\u0000l\u0000i\u0000 \u0000a\u0000u\u0000t\u0000h\u0000e\u0000n\u0000t\u0000i\u0000c\u0000 \u0000f\u0000o\u0000o\u0000d\u0000\t\u0000U\u0000S\u0000D\u0000\t\u00005\u00000\u0000\t\u00000\u0000%\u0000\t\u00000\u0000%\u0000\t\u0000L\u0000o\u0000w\u0000\t\u00000\u0000\t\u0000\t\u0000\t\u0000\t\u0000\t\u0000\t\u0000\t\u0000\t\u0000\t\u0000\t\u0000\t\u0000N\u0000o\u0000n\u0000-\u0000B\u0000r\u0000a\u0000n\u0000d\u0000s\u0000\t\u0000\t\u0000\t\u0000\t\u0000\r",
      "\u0000\r\n",
      "\u0000c\u0000h\u0000u\u0000l\u0000h\u0000o\u0000 \u0000a\u0000u\u0000t\u0000h\u0000e\u0000n\u0000t\u0000i\u0000c\u0000 \u0000n\u0000e\u0000p\u0000a\u0000l\u0000e\u0000s\u0000e\u0000 \u0000a\u0000n\u0000d\u0000 \u0000i\u0000n\u0000d\u0000i\u0000a\u0000n\u0000 \u0000c\u0000u\u0000i\u0000s\u0000i\u0000n\u0000e\u0000\t\u0000U\u0000S\u0000D\u0000\t\u00005\u00000\u0000\t\u0000\u001e",
      "\"\t\u0000\u001e",
      "\"\t\u0000L\u0000o\u0000w\u0000\t\u00000\u0000\t\u0000\t\u0000\t\u0000\t\u0000\t\u0000\t\u0000\t\u0000\t\u0000\t\u0000\t\u0000\t\u0000N\u0000o\u0000n\u0000-\u0000B\u0000r\u0000a\u0000n\u0000d\u0000s\u0000\t\u0000\t\u0000\t\u0000\t\u0000"
     ]
    }
   ],
   "source": [
    "!tail -n 2 key.csv"
   ]
  },
  {
   "cell_type": "code",
   "execution_count": 6,
   "id": "a4d5bb30",
   "metadata": {
    "ExecuteTime": {
     "end_time": "2022-01-03T01:20:18.813725Z",
     "start_time": "2022-01-03T01:20:18.681157Z"
    }
   },
   "outputs": [
    {
     "name": "stdout",
     "output_type": "stream",
     "text": [
      "    2215 key.csv\r\n"
     ]
    }
   ],
   "source": [
    "!wc -l key.csv"
   ]
  },
  {
   "cell_type": "markdown",
   "id": "eb911f94",
   "metadata": {},
   "source": [
    "# Load the modules"
   ]
  },
  {
   "cell_type": "code",
   "execution_count": 7,
   "id": "df2564ff",
   "metadata": {
    "ExecuteTime": {
     "end_time": "2022-01-03T01:20:20.038517Z",
     "start_time": "2022-01-03T01:20:18.816848Z"
    }
   },
   "outputs": [
    {
     "name": "stdout",
     "output_type": "stream",
     "text": [
      "pandas   1.3.5\n",
      "json     2.0.9\n",
      "seaborn  0.11.0\n",
      "autopep8 1.5.2\n",
      "numpy    1.19.5\n",
      "\n"
     ]
    }
   ],
   "source": [
    "import numpy as np\n",
    "import pandas as pd\n",
    "import os,sys,time\n",
    "\n",
    "# visualization\n",
    "import matplotlib.pyplot as plt\n",
    "import seaborn as sns\n",
    "sns.set()\n",
    "\n",
    "# settings\n",
    "SEED = 100\n",
    "pd.set_option('max_columns',100)\n",
    "\n",
    "%matplotlib inline\n",
    "%load_ext watermark\n",
    "%watermark -iv"
   ]
  },
  {
   "cell_type": "code",
   "execution_count": 8,
   "id": "b323ac2a",
   "metadata": {
    "ExecuteTime": {
     "end_time": "2022-01-03T01:20:20.059678Z",
     "start_time": "2022-01-03T01:20:20.041117Z"
    }
   },
   "outputs": [
    {
     "name": "stdout",
     "output_type": "stream",
     "text": [
      "['Keyword', 'Currency', 'Avg. monthly searches', 'Three month change', 'YoY change', 'Competition', 'Competition (indexed value)', 'Top of page bid (low range)', 'Top of page bid (high range)', 'Concept: Condition', 'Concept: Body Part', 'Concept: Product', 'Concept: Brand', 'Concept: Retailer', 'Concept: Step', 'Concept: Color', 'Concept: Other Brands', 'Concept: Non-Brands', 'Concept: Amenity', 'Concept: Fruit', 'Concept: Gender', 'Concept: Others']\n"
     ]
    }
   ],
   "source": [
    "with open('key.csv','r',encoding='utf-16') as fi:\n",
    "    names = None\n",
    "    for line in fi.readlines():\n",
    "        names = line.split('\\t')\n",
    "        break\n",
    "        \n",
    "names = [i.strip() for i in names]\n",
    "print(names)"
   ]
  },
  {
   "cell_type": "code",
   "execution_count": 10,
   "id": "335612b0",
   "metadata": {
    "ExecuteTime": {
     "end_time": "2022-01-03T01:20:36.775972Z",
     "start_time": "2022-01-03T01:20:36.713182Z"
    }
   },
   "outputs": [
    {
     "name": "stdout",
     "output_type": "stream",
     "text": [
      "(2215, 22)\n"
     ]
    },
    {
     "data": {
      "text/html": [
       "<div>\n",
       "<style scoped>\n",
       "    .dataframe tbody tr th:only-of-type {\n",
       "        vertical-align: middle;\n",
       "    }\n",
       "\n",
       "    .dataframe tbody tr th {\n",
       "        vertical-align: top;\n",
       "    }\n",
       "\n",
       "    .dataframe thead th {\n",
       "        text-align: right;\n",
       "    }\n",
       "</style>\n",
       "<table border=\"1\" class=\"dataframe\">\n",
       "  <thead>\n",
       "    <tr style=\"text-align: right;\">\n",
       "      <th></th>\n",
       "      <th>Keyword</th>\n",
       "      <th>Currency</th>\n",
       "      <th>Avg. monthly searches</th>\n",
       "      <th>Three month change</th>\n",
       "      <th>YoY change</th>\n",
       "      <th>Competition</th>\n",
       "      <th>Competition (indexed value)</th>\n",
       "      <th>Top of page bid (low range)</th>\n",
       "      <th>Top of page bid (high range)</th>\n",
       "      <th>Concept: Condition</th>\n",
       "      <th>Concept: Body Part</th>\n",
       "      <th>Concept: Product</th>\n",
       "      <th>Concept: Brand</th>\n",
       "      <th>Concept: Retailer</th>\n",
       "      <th>Concept: Step</th>\n",
       "      <th>Concept: Color</th>\n",
       "      <th>Concept: Other Brands</th>\n",
       "      <th>Concept: Non-Brands</th>\n",
       "      <th>Concept: Amenity</th>\n",
       "      <th>Concept: Fruit</th>\n",
       "      <th>Concept: Gender</th>\n",
       "      <th>Concept: Others</th>\n",
       "    </tr>\n",
       "  </thead>\n",
       "  <tbody>\n",
       "    <tr>\n",
       "      <th>0</th>\n",
       "      <td>body soap</td>\n",
       "      <td>USD</td>\n",
       "      <td>5000.0</td>\n",
       "      <td>0%</td>\n",
       "      <td>0%</td>\n",
       "      <td>High</td>\n",
       "      <td>100.0</td>\n",
       "      <td>1.62</td>\n",
       "      <td>4.56</td>\n",
       "      <td>NaN</td>\n",
       "      <td>NaN</td>\n",
       "      <td>NaN</td>\n",
       "      <td>NaN</td>\n",
       "      <td>NaN</td>\n",
       "      <td>NaN</td>\n",
       "      <td>NaN</td>\n",
       "      <td>NaN</td>\n",
       "      <td>NaN</td>\n",
       "      <td>NaN</td>\n",
       "      <td>NaN</td>\n",
       "      <td>NaN</td>\n",
       "      <td>NaN</td>\n",
       "    </tr>\n",
       "    <tr>\n",
       "      <th>1</th>\n",
       "      <td>authentic nepali</td>\n",
       "      <td>USD</td>\n",
       "      <td>NaN</td>\n",
       "      <td>--</td>\n",
       "      <td>--</td>\n",
       "      <td>Unknown</td>\n",
       "      <td>NaN</td>\n",
       "      <td>NaN</td>\n",
       "      <td>NaN</td>\n",
       "      <td>NaN</td>\n",
       "      <td>NaN</td>\n",
       "      <td>NaN</td>\n",
       "      <td>NaN</td>\n",
       "      <td>NaN</td>\n",
       "      <td>NaN</td>\n",
       "      <td>NaN</td>\n",
       "      <td>NaN</td>\n",
       "      <td>NaN</td>\n",
       "      <td>NaN</td>\n",
       "      <td>NaN</td>\n",
       "      <td>NaN</td>\n",
       "      <td>NaN</td>\n",
       "    </tr>\n",
       "    <tr>\n",
       "      <th>2213</th>\n",
       "      <td>nepali authentic food</td>\n",
       "      <td>USD</td>\n",
       "      <td>50.0</td>\n",
       "      <td>0%</td>\n",
       "      <td>0%</td>\n",
       "      <td>Low</td>\n",
       "      <td>0.0</td>\n",
       "      <td>NaN</td>\n",
       "      <td>NaN</td>\n",
       "      <td>NaN</td>\n",
       "      <td>NaN</td>\n",
       "      <td>NaN</td>\n",
       "      <td>NaN</td>\n",
       "      <td>NaN</td>\n",
       "      <td>NaN</td>\n",
       "      <td>NaN</td>\n",
       "      <td>NaN</td>\n",
       "      <td>Non-Brands</td>\n",
       "      <td>NaN</td>\n",
       "      <td>NaN</td>\n",
       "      <td>NaN</td>\n",
       "      <td>NaN</td>\n",
       "    </tr>\n",
       "    <tr>\n",
       "      <th>2214</th>\n",
       "      <td>chulho authentic nepalese and indian cuisine</td>\n",
       "      <td>USD</td>\n",
       "      <td>50.0</td>\n",
       "      <td>∞</td>\n",
       "      <td>∞</td>\n",
       "      <td>Low</td>\n",
       "      <td>0.0</td>\n",
       "      <td>NaN</td>\n",
       "      <td>NaN</td>\n",
       "      <td>NaN</td>\n",
       "      <td>NaN</td>\n",
       "      <td>NaN</td>\n",
       "      <td>NaN</td>\n",
       "      <td>NaN</td>\n",
       "      <td>NaN</td>\n",
       "      <td>NaN</td>\n",
       "      <td>NaN</td>\n",
       "      <td>Non-Brands</td>\n",
       "      <td>NaN</td>\n",
       "      <td>NaN</td>\n",
       "      <td>NaN</td>\n",
       "      <td>NaN</td>\n",
       "    </tr>\n",
       "  </tbody>\n",
       "</table>\n",
       "</div>"
      ],
      "text/plain": [
       "                                           Keyword Currency  \\\n",
       "0                                        body soap      USD   \n",
       "1                                 authentic nepali      USD   \n",
       "2213                         nepali authentic food      USD   \n",
       "2214  chulho authentic nepalese and indian cuisine      USD   \n",
       "\n",
       "      Avg. monthly searches Three month change YoY change Competition  \\\n",
       "0                    5000.0                 0%         0%        High   \n",
       "1                       NaN                 --         --     Unknown   \n",
       "2213                   50.0                 0%         0%         Low   \n",
       "2214                   50.0                  ∞          ∞         Low   \n",
       "\n",
       "      Competition (indexed value)  Top of page bid (low range)  \\\n",
       "0                           100.0                         1.62   \n",
       "1                             NaN                          NaN   \n",
       "2213                          0.0                          NaN   \n",
       "2214                          0.0                          NaN   \n",
       "\n",
       "      Top of page bid (high range) Concept: Condition Concept: Body Part  \\\n",
       "0                             4.56                NaN                NaN   \n",
       "1                              NaN                NaN                NaN   \n",
       "2213                           NaN                NaN                NaN   \n",
       "2214                           NaN                NaN                NaN   \n",
       "\n",
       "     Concept: Product Concept: Brand Concept: Retailer Concept: Step  \\\n",
       "0                 NaN            NaN               NaN           NaN   \n",
       "1                 NaN            NaN               NaN           NaN   \n",
       "2213              NaN            NaN               NaN           NaN   \n",
       "2214              NaN            NaN               NaN           NaN   \n",
       "\n",
       "     Concept: Color Concept: Other Brands Concept: Non-Brands  \\\n",
       "0               NaN                   NaN                 NaN   \n",
       "1               NaN                   NaN                 NaN   \n",
       "2213            NaN                   NaN          Non-Brands   \n",
       "2214            NaN                   NaN          Non-Brands   \n",
       "\n",
       "     Concept: Amenity Concept: Fruit Concept: Gender Concept: Others  \n",
       "0                 NaN            NaN             NaN             NaN  \n",
       "1                 NaN            NaN             NaN             NaN  \n",
       "2213              NaN            NaN             NaN             NaN  \n",
       "2214              NaN            NaN             NaN             NaN  "
      ]
     },
     "execution_count": 10,
     "metadata": {},
     "output_type": "execute_result"
    }
   ],
   "source": [
    "df = pd.read_csv('key.csv',skiprows=1,nrows=None,\n",
    "                 encoding='utf-16',delimiter='\\t',header=None,names=names)\n",
    "\n",
    "print(df.shape)\n",
    "df.head(2).append(df.tail(2))"
   ]
  },
  {
   "cell_type": "markdown",
   "id": "600bc742",
   "metadata": {},
   "source": [
    "# Read files"
   ]
  },
  {
   "cell_type": "code",
   "execution_count": 11,
   "id": "24139060",
   "metadata": {
    "ExecuteTime": {
     "end_time": "2022-01-03T01:20:46.467695Z",
     "start_time": "2022-01-03T01:20:45.193740Z"
    }
   },
   "outputs": [
    {
     "name": "stdout",
     "output_type": "stream",
     "text": [
      "(1876, 22)\n"
     ]
    },
    {
     "data": {
      "text/html": [
       "<div>\n",
       "<style scoped>\n",
       "    .dataframe tbody tr th:only-of-type {\n",
       "        vertical-align: middle;\n",
       "    }\n",
       "\n",
       "    .dataframe tbody tr th {\n",
       "        vertical-align: top;\n",
       "    }\n",
       "\n",
       "    .dataframe thead th {\n",
       "        text-align: right;\n",
       "    }\n",
       "</style>\n",
       "<table border=\"1\" class=\"dataframe\">\n",
       "  <thead>\n",
       "    <tr style=\"text-align: right;\">\n",
       "      <th></th>\n",
       "      <th>Keyword</th>\n",
       "      <th>Currency</th>\n",
       "      <th>Avg. monthly searches</th>\n",
       "      <th>Three month change</th>\n",
       "      <th>YoY change</th>\n",
       "      <th>Competition</th>\n",
       "      <th>Competition (indexed value)</th>\n",
       "      <th>Top of page bid (low range)</th>\n",
       "      <th>Top of page bid (high range)</th>\n",
       "      <th>Concept: Condition</th>\n",
       "      <th>Concept: Body Part</th>\n",
       "      <th>Concept: Product</th>\n",
       "      <th>Concept: Brand</th>\n",
       "      <th>Concept: Retailer</th>\n",
       "      <th>Concept: Step</th>\n",
       "      <th>Concept: Color</th>\n",
       "      <th>Concept: Other Brands</th>\n",
       "      <th>Concept: Non-Brands</th>\n",
       "      <th>Concept: Amenity</th>\n",
       "      <th>Concept: Fruit</th>\n",
       "      <th>Concept: Gender</th>\n",
       "      <th>Concept: Others</th>\n",
       "    </tr>\n",
       "  </thead>\n",
       "  <tbody>\n",
       "    <tr>\n",
       "      <th>0</th>\n",
       "      <td>December 1, 2020 - November 30, 2021</td>\n",
       "      <td>NaN</td>\n",
       "      <td>NaN</td>\n",
       "      <td>NaN</td>\n",
       "      <td>NaN</td>\n",
       "      <td>NaN</td>\n",
       "      <td>NaN</td>\n",
       "      <td>NaN</td>\n",
       "      <td>NaN</td>\n",
       "      <td>NaN</td>\n",
       "      <td>NaN</td>\n",
       "      <td>NaN</td>\n",
       "      <td>NaN</td>\n",
       "      <td>NaN</td>\n",
       "      <td>NaN</td>\n",
       "      <td>NaN</td>\n",
       "      <td>NaN</td>\n",
       "      <td>NaN</td>\n",
       "      <td>NaN</td>\n",
       "      <td>NaN</td>\n",
       "      <td>NaN</td>\n",
       "      <td>NaN</td>\n",
       "    </tr>\n",
       "    <tr>\n",
       "      <th>1</th>\n",
       "      <td>Keyword</td>\n",
       "      <td>Currency</td>\n",
       "      <td>Avg. monthly searches</td>\n",
       "      <td>Three month change</td>\n",
       "      <td>YoY change</td>\n",
       "      <td>Competition</td>\n",
       "      <td>Competition (indexed value)</td>\n",
       "      <td>Top of page bid (low range)</td>\n",
       "      <td>Top of page bid (high range)</td>\n",
       "      <td>Ad impression share</td>\n",
       "      <td>Organic impression share</td>\n",
       "      <td>Organic average position</td>\n",
       "      <td>In account?</td>\n",
       "      <td>In plan?</td>\n",
       "      <td>Searches: Dec 2020</td>\n",
       "      <td>Searches: Jan 2021</td>\n",
       "      <td>Searches: Feb 2021</td>\n",
       "      <td>Searches: Mar 2021</td>\n",
       "      <td>Searches: Apr 2021</td>\n",
       "      <td>Searches: May 2021</td>\n",
       "      <td>Searches: Jun 2021</td>\n",
       "      <td>Searches: Jul 2021</td>\n",
       "    </tr>\n",
       "    <tr>\n",
       "      <th>1874</th>\n",
       "      <td>mob t shirt</td>\n",
       "      <td>USD</td>\n",
       "      <td>500</td>\n",
       "      <td>-90%</td>\n",
       "      <td>0%</td>\n",
       "      <td>High</td>\n",
       "      <td>100</td>\n",
       "      <td>0.30</td>\n",
       "      <td>0.95</td>\n",
       "      <td>NaN</td>\n",
       "      <td>NaN</td>\n",
       "      <td>NaN</td>\n",
       "      <td>NaN</td>\n",
       "      <td>NaN</td>\n",
       "      <td>NaN</td>\n",
       "      <td>NaN</td>\n",
       "      <td>NaN</td>\n",
       "      <td>NaN</td>\n",
       "      <td>NaN</td>\n",
       "      <td>NaN</td>\n",
       "      <td>NaN</td>\n",
       "      <td>NaN</td>\n",
       "    </tr>\n",
       "    <tr>\n",
       "      <th>1875</th>\n",
       "      <td>the shining t shirt</td>\n",
       "      <td>USD</td>\n",
       "      <td>500</td>\n",
       "      <td>-90%</td>\n",
       "      <td>0%</td>\n",
       "      <td>High</td>\n",
       "      <td>100</td>\n",
       "      <td>0.33</td>\n",
       "      <td>0.98</td>\n",
       "      <td>NaN</td>\n",
       "      <td>NaN</td>\n",
       "      <td>NaN</td>\n",
       "      <td>NaN</td>\n",
       "      <td>NaN</td>\n",
       "      <td>NaN</td>\n",
       "      <td>NaN</td>\n",
       "      <td>NaN</td>\n",
       "      <td>NaN</td>\n",
       "      <td>NaN</td>\n",
       "      <td>NaN</td>\n",
       "      <td>NaN</td>\n",
       "      <td>NaN</td>\n",
       "    </tr>\n",
       "  </tbody>\n",
       "</table>\n",
       "</div>"
      ],
      "text/plain": [
       "                                   Keyword  Currency  Avg. monthly searches  \\\n",
       "0     December 1, 2020 - November 30, 2021       NaN                    NaN   \n",
       "1                                  Keyword  Currency  Avg. monthly searches   \n",
       "1874                           mob t shirt       USD                    500   \n",
       "1875                   the shining t shirt       USD                    500   \n",
       "\n",
       "      Three month change  YoY change  Competition  \\\n",
       "0                    NaN         NaN          NaN   \n",
       "1     Three month change  YoY change  Competition   \n",
       "1874                -90%          0%         High   \n",
       "1875                -90%          0%         High   \n",
       "\n",
       "      Competition (indexed value)  Top of page bid (low range)  \\\n",
       "0                             NaN                          NaN   \n",
       "1     Competition (indexed value)  Top of page bid (low range)   \n",
       "1874                          100                         0.30   \n",
       "1875                          100                         0.33   \n",
       "\n",
       "      Top of page bid (high range)   Concept: Condition  \\\n",
       "0                              NaN                  NaN   \n",
       "1     Top of page bid (high range)  Ad impression share   \n",
       "1874                          0.95                  NaN   \n",
       "1875                          0.98                  NaN   \n",
       "\n",
       "            Concept: Body Part          Concept: Product Concept: Brand  \\\n",
       "0                          NaN                       NaN            NaN   \n",
       "1     Organic impression share  Organic average position    In account?   \n",
       "1874                       NaN                       NaN            NaN   \n",
       "1875                       NaN                       NaN            NaN   \n",
       "\n",
       "     Concept: Retailer       Concept: Step      Concept: Color  \\\n",
       "0                  NaN                 NaN                 NaN   \n",
       "1             In plan?  Searches: Dec 2020  Searches: Jan 2021   \n",
       "1874               NaN                 NaN                 NaN   \n",
       "1875               NaN                 NaN                 NaN   \n",
       "\n",
       "     Concept: Other Brands Concept: Non-Brands    Concept: Amenity  \\\n",
       "0                      NaN                 NaN                 NaN   \n",
       "1       Searches: Feb 2021  Searches: Mar 2021  Searches: Apr 2021   \n",
       "1874                   NaN                 NaN                 NaN   \n",
       "1875                   NaN                 NaN                 NaN   \n",
       "\n",
       "          Concept: Fruit     Concept: Gender     Concept: Others  \n",
       "0                    NaN                 NaN                 NaN  \n",
       "1     Searches: May 2021  Searches: Jun 2021  Searches: Jul 2021  \n",
       "1874                 NaN                 NaN                 NaN  \n",
       "1875                 NaN                 NaN                 NaN  "
      ]
     },
     "execution_count": 11,
     "metadata": {},
     "output_type": "execute_result"
    }
   ],
   "source": [
    "url = \"https://raw.githubusercontent.com/sumandevkota/SHARED/main/Tshirt.csv\"\n",
    "\n",
    "df = pd.read_csv(url,skiprows=1,nrows=None,\n",
    "                 encoding='utf-16',delimiter='\\t',header=None,\n",
    "                names=names)\n",
    "\n",
    "print(df.shape)\n",
    "df.head(2).append(df.tail(2))"
   ]
  },
  {
   "cell_type": "code",
   "execution_count": null,
   "id": "9c159e60",
   "metadata": {},
   "outputs": [],
   "source": []
  }
 ],
 "metadata": {
  "kernelspec": {
   "display_name": "Python (dataSc)",
   "language": "python",
   "name": "datasc"
  },
  "language_info": {
   "codemirror_mode": {
    "name": "ipython",
    "version": 3
   },
   "file_extension": ".py",
   "mimetype": "text/x-python",
   "name": "python",
   "nbconvert_exporter": "python",
   "pygments_lexer": "ipython3",
   "version": "3.7.7"
  },
  "toc": {
   "base_numbering": 1,
   "nav_menu": {},
   "number_sections": true,
   "sideBar": true,
   "skip_h1_title": false,
   "title_cell": "Table of Contents",
   "title_sidebar": "Contents",
   "toc_cell": true,
   "toc_position": {},
   "toc_section_display": true,
   "toc_window_display": false
  }
 },
 "nbformat": 4,
 "nbformat_minor": 5
}
